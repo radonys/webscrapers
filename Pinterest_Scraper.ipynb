{
  "nbformat": 4,
  "nbformat_minor": 0,
  "metadata": {
    "colab": {
      "name": "Pinterest_Scraper.ipynb",
      "provenance": [],
      "collapsed_sections": [
        "SLNYG9tLXVx-",
        "gU_eUVmaXfHp",
        "J88f8hJus8Kb",
        "87EkqOl6z5v_",
        "aDh_rpOba0TA",
        "Jn0f0GrdPHP-",
        "aJMCuTkiNj52",
        "pYknDbWSWf0M"
      ],
      "toc_visible": true,
      "include_colab_link": true
    },
    "kernelspec": {
      "name": "python3",
      "display_name": "Python 3"
    }
  },
  "cells": [
    {
      "cell_type": "markdown",
      "metadata": {
        "id": "view-in-github",
        "colab_type": "text"
      },
      "source": [
        "<a href=\"https://colab.research.google.com/github/radonys/webscrapers/blob/master/Pinterest_Scraper.ipynb\" target=\"_parent\"><img src=\"https://colab.research.google.com/assets/colab-badge.svg\" alt=\"Open In Colab\"/></a>"
      ]
    },
    {
      "cell_type": "markdown",
      "metadata": {
        "id": "P92Bit77XRHR",
        "colab_type": "text"
      },
      "source": [
        "# Pinterest Scraper"
      ]
    },
    {
      "cell_type": "markdown",
      "metadata": {
        "id": "SLNYG9tLXVx-",
        "colab_type": "text"
      },
      "source": [
        "## Install Modules"
      ]
    },
    {
      "cell_type": "code",
      "metadata": {
        "id": "8nXtqQsMXM_U",
        "colab_type": "code",
        "colab": {}
      },
      "source": [
        "!pip install bs4 selenium pandas scikit-learn"
      ],
      "execution_count": 0,
      "outputs": []
    },
    {
      "cell_type": "markdown",
      "metadata": {
        "id": "gU_eUVmaXfHp",
        "colab_type": "text"
      },
      "source": [
        "## Import Modules"
      ]
    },
    {
      "cell_type": "markdown",
      "metadata": {
        "id": "ZBqSg9Hi6bYX",
        "colab_type": "text"
      },
      "source": [
        ""
      ]
    },
    {
      "cell_type": "code",
      "metadata": {
        "id": "pFX7vzHMXoh2",
        "colab_type": "code",
        "colab": {}
      },
      "source": [
        "# For accessing and parsing Pinterest Webpages\n",
        "from selenium import webdriver\n",
        "from selenium.webdriver.common.keys import Keys\n",
        "from bs4 import BeautifulSoup\n",
        "from urllib.request import urlopen\n",
        "import json\n",
        "\n",
        "# Structuring Collected Data\n",
        "import pandas as pd\n",
        "\n",
        "# General Libraries\n",
        "import time\n",
        "import re\n",
        "import os\n",
        "import requests\n",
        "import shutil\n",
        "import pickle"
      ],
      "execution_count": 0,
      "outputs": []
    },
    {
      "cell_type": "markdown",
      "metadata": {
        "id": "J88f8hJus8Kb",
        "colab_type": "text"
      },
      "source": [
        "## Install Chrome Driver for scrolling Instagram pages\n",
        "\n",
        "References:\n",
        "\n",
        "1) How can we use Selenium Webdriver in colab.research.google.com? [[StackOverFlow](https://stackoverflow.com/questions/51046454/how-can-we-use-selenium-webdriver-in-colab-research-google-com)]"
      ]
    },
    {
      "cell_type": "code",
      "metadata": {
        "id": "7gpClbh4tC_d",
        "colab_type": "code",
        "colab": {}
      },
      "source": [
        "!apt install chromium-chromedriver\n",
        "options = webdriver.ChromeOptions()\n",
        "options.add_argument('--headless')\n",
        "options.add_argument('--no-sandbox')\n",
        "options.add_argument('--disable-dev-shm-usage')"
      ],
      "execution_count": 0,
      "outputs": []
    },
    {
      "cell_type": "markdown",
      "metadata": {
        "id": "O3W1f-grX5BB",
        "colab_type": "text"
      },
      "source": [
        "## Variable Declarations\n"
      ]
    },
    {
      "cell_type": "code",
      "metadata": {
        "id": "xwAZy2n5X7vI",
        "colab_type": "code",
        "colab": {}
      },
      "source": [
        "browser = webdriver.Chrome('chromedriver',options=options)\n",
        "\n",
        "#Pinterest Users to be scraped\n",
        "#'amsigfurniture', 'ashleyhomestore', 'bonobos', 'cocacola', 'ethanallen', 'IKEAUSA', 'lazboy', 'potterybarn', 'raymourflanigan', 'simplygum', 'StarFurniture',\n",
        "pinterest_users = ['williamssonoma', 'walmart']"
      ],
      "execution_count": 0,
      "outputs": []
    },
    {
      "cell_type": "markdown",
      "metadata": {
        "id": "87EkqOl6z5v_",
        "colab_type": "text"
      },
      "source": [
        "## Pinterest Login\n",
        "\n",
        "**Insert the Login ID and Password for Login.**\n",
        "\n",
        "References:\n",
        "\n",
        "1) Pinterest Image Scraper ([GitHub](https://raw.githubusercontent.com/xjdeng/pinterest-image-scraper/538e18f520cad8051c9394755e33cffd861f1c58/pinterest_scraper/scraper.py))"
      ]
    },
    {
      "cell_type": "code",
      "metadata": {
        "id": "_iXgktJDz98u",
        "colab_type": "code",
        "colab": {}
      },
      "source": [
        "# Pinterest Login\n",
        "\n",
        "def pinterest_login(userid, password):\n",
        "  \n",
        "  browser.get(\"https://www.pinterest.com\")\n",
        "  email_field = browser.find_element_by_name('id')\n",
        "  email_field.send_keys(userid) #User ID\n",
        "  password_field = browser.find_element_by_name('password')\n",
        "  password_field.send_keys(password) #Passowrd\n",
        "  password_field.send_keys(Keys.RETURN)\n",
        "  time.sleep(3)\n",
        "  \n",
        "pinterest_login('yashsrivastava3005@gmail.com', 'Yash@1234')"
      ],
      "execution_count": 0,
      "outputs": []
    },
    {
      "cell_type": "markdown",
      "metadata": {
        "id": "O6t9UsRgawai",
        "colab_type": "text"
      },
      "source": [
        "## Helper Functions"
      ]
    },
    {
      "cell_type": "markdown",
      "metadata": {
        "id": "aDh_rpOba0TA",
        "colab_type": "text"
      },
      "source": [
        "### Scrape Pin IDs\n",
        "\n",
        "1) How to scroll to the end of the page using selenium in python ([StackOverFlow](https://stackoverflow.com/questions/32391303/how-to-scroll-to-the-end-of-the-page-using-selenium-in-python/32629481))"
      ]
    },
    {
      "cell_type": "code",
      "metadata": {
        "id": "yIGJPQivayyu",
        "colab_type": "code",
        "colab": {}
      },
      "source": [
        "def get_pinterest_ids(user):\n",
        "  \n",
        "  ids = []\n",
        "  browser.get('https://www.pinterest.com/'+user+'/pins/')\n",
        "  #number_of_pins_tag = browser.find_elements_by_tag_name('strong')\n",
        "  #number_of_pins = int(number_of_pins_tag[0].text)\n",
        "  #print(len(number_of_pins_tag),number_of_pins)\n",
        "  \n",
        "  page_length = browser.execute_script(\"window.scrollTo(0, document.body.scrollHeight);var page_length=document.body.scrollHeight;return page_length;\")\n",
        "  flag = False\n",
        "  tries = 10\n",
        "  \n",
        "  while flag==False:\n",
        "    \n",
        "    previous_length = page_length\n",
        "    previous_length_ids = len(set(ids))\n",
        "    \n",
        "    page_length = browser.execute_script(\"window.scrollTo(0, document.body.scrollHeight);var page_length=document.body.scrollHeight;return page_length;\")\n",
        "    \n",
        "    #If the previous length is equal to current length, that means we are at the end of the page.\n",
        "    if previous_length==page_length:\n",
        "      flag = True\n",
        "      \n",
        "    #Sleep Time added so fake that Instagram page is not being traversed by a Bot.\n",
        "    time.sleep(5)\n",
        "  \n",
        "    a_tags = browser.find_elements_by_tag_name('div')\n",
        "      \n",
        "    for link in a_tags:\n",
        "      \n",
        "      temp = link.get_attribute('data-test-pin-id')\n",
        "      \n",
        "      if temp!=None:\n",
        "        ids.append(temp)\n",
        "    \n",
        "    print(len(set(ids)), previous_length_ids)\n",
        "    \n",
        "    if len(set(ids))==previous_length_ids:\n",
        "      \n",
        "      tries = tries -1\n",
        "      \n",
        "      if tries>=0:\n",
        "        flag = False\n",
        "      \n",
        "      else:\n",
        "        flag = True\n",
        "        \n",
        "    else:\n",
        "      flag = False\n",
        "  \n",
        "  return list(set(ids))"
      ],
      "execution_count": 0,
      "outputs": []
    },
    {
      "cell_type": "markdown",
      "metadata": {
        "id": "Jn0f0GrdPHP-",
        "colab_type": "text"
      },
      "source": [
        "### Retreive Needed Information from JSON Data"
      ]
    },
    {
      "cell_type": "code",
      "metadata": {
        "id": "-qOwbzxfPVjD",
        "colab_type": "code",
        "colab": {}
      },
      "source": [
        "def extract_needed_info(json_data):\n",
        "  \n",
        "  keys = ['domain', 'id', 'link', 'comment_count', 'category', 'is_video', 'created_at', 'aggregated_pin_data', 'images']\n",
        "  temp_dict = {}\n",
        "  \n",
        "  for key in keys:\n",
        "    \n",
        "    if key=='aggregated_pin_data':\n",
        "      \n",
        "      temp_key = 'saves'\n",
        "      temp_dict[temp_key] = json_data[key]['aggregated_stats'][temp_key]\n",
        "      \n",
        "    elif key=='images':\n",
        "      \n",
        "      temp_key = 'url'\n",
        "      temp_dict[key+temp_key] = json_data[key]['736x'][temp_key]\n",
        "    \n",
        "    else:\n",
        "      temp_dict[key] = json_data[key]\n",
        "  \n",
        "  return temp_dict"
      ],
      "execution_count": 0,
      "outputs": []
    },
    {
      "cell_type": "markdown",
      "metadata": {
        "id": "aJMCuTkiNj52",
        "colab_type": "text"
      },
      "source": [
        "### Save Data"
      ]
    },
    {
      "cell_type": "code",
      "metadata": {
        "id": "AeK6vjicOPPY",
        "colab_type": "code",
        "colab": {}
      },
      "source": [
        "def save_metadata(ids, save_name):\n",
        "  \n",
        "  data = pd.DataFrame()\n",
        "  counter = 0\n",
        "  total_ids = len(ids)\n",
        "  \n",
        "  while counter!=total_ids:\n",
        "  \n",
        "    for each_id in ids:\n",
        "      \n",
        "          link = 'https://www.pinterest.com/pin/' + each_id + '/'\n",
        "          print(len(ids))\n",
        "    \n",
        "          try:\n",
        "          \n",
        "            # Open the URL and extract JSON information.\n",
        "            page = urlopen(link).read()\n",
        "            source = BeautifulSoup(page, 'html.parser')\n",
        "            body = source.find('body')\n",
        "            script = body.find('script')\n",
        "            json_data = json.loads(script.text)\n",
        "\n",
        "            # Extract needed information.\n",
        "            image_metadata = json_data['resources']['data']['PinPageResource'][\"field_set_key=\\\"detailed\\\",get_page_metadata=true,id=\\\"\"+ each_id +\"\\\",main_module_name=\\\"UnauthPinReactPage\\\",pure_react=true,python_resource_prefetch=false\"]['data']\n",
        "            temp_dict = extract_needed_info(image_metadata)\n",
        "            temp = pd.DataFrame(temp_dict, index=[0])\n",
        "            data = data.append(temp)\n",
        "            ids.remove(each_id)\n",
        "            counter = counter + 1\n",
        "            \n",
        "          except Exception as error:\n",
        "            print(link)\n",
        "            print('Caught this error: ' + repr(error))\n",
        "  \n",
        "  data = data.drop_duplicates(subset = 'id')\n",
        "  data.index = range(len(data.index))\n",
        "  data.to_csv(save_name+'data.csv')\n",
        "  save_images(data, save_name)"
      ],
      "execution_count": 0,
      "outputs": []
    },
    {
      "cell_type": "markdown",
      "metadata": {
        "id": "pYknDbWSWf0M",
        "colab_type": "text"
      },
      "source": [
        "### Save Images\n",
        "\n",
        "References:\n",
        "\n",
        "1) Scraping Instagram with Python (using Selenium and Beautiful Soup) ([Medium](https://medium.com/@srujana.rao2/scraping-instagram-with-python-using-selenium-and-beautiful-soup-8b72c186a058))"
      ]
    },
    {
      "cell_type": "code",
      "metadata": {
        "id": "_gMWH8w5WjVT",
        "colab_type": "code",
        "colab": {}
      },
      "source": [
        "#The Code has been taken from the above resource.\n",
        "\n",
        "def save_images(data, save_name):\n",
        "  \n",
        "  images_path = save_name+'/'\n",
        "  \n",
        "  if not os.path.isdir(images_path):\n",
        "    os.mkdir(images_path)\n",
        "  \n",
        "  for i in range(0, len(data['imagesurl'])):\n",
        "    \n",
        "    image = requests.get(data['imagesurl'][i])\n",
        "    with open(images_path + data['id'][i] + \".jpg\", 'wb') as file:\n",
        "                    file.write(image.content)"
      ],
      "execution_count": 0,
      "outputs": []
    },
    {
      "cell_type": "markdown",
      "metadata": {
        "id": "yUPAEXrJZuso",
        "colab_type": "text"
      },
      "source": [
        "## Scrape Pinterest Pins"
      ]
    },
    {
      "cell_type": "code",
      "metadata": {
        "id": "3tYm2jGXZxSJ",
        "colab_type": "code",
        "outputId": "5fd82f41-aa89-4315-c6fa-64931a376341",
        "colab": {
          "base_uri": "https://localhost:8080/",
          "height": 1000
        }
      },
      "source": [
        "for user in pinterest_users:\n",
        "  \n",
        "  ids = get_pinterest_ids(user)\n",
        "  print(len(ids))\n",
        "  with open(user + '_ids.pkl', 'wb') as f:\n",
        "    pickle.dump(ids, f)\n",
        "  #save_metadata(ids, user+'_pins_')\n",
        "  #shutil.make_archive(user+'_pins_images', 'zip', user+'_pins_')\n",
        "  #break"
      ],
      "execution_count": 0,
      "outputs": [
        {
          "output_type": "stream",
          "text": [
            "7175 7158\n",
            "7190 7175\n",
            "7206 7190\n",
            "7223 7206\n",
            "7237 7223\n",
            "7253 7237\n",
            "7268 7253\n",
            "7286 7268\n",
            "7301 7286\n",
            "7318 7301\n",
            "7335 7318\n",
            "7351 7335\n",
            "7367 7351\n",
            "7384 7367\n",
            "7401 7384\n",
            "7416 7401\n",
            "7434 7416\n",
            "7451 7434\n",
            "7467 7451\n",
            "7484 7467\n",
            "7500 7484\n",
            "7517 7500\n",
            "7534 7517\n",
            "7551 7534\n",
            "7568 7551\n",
            "7584 7568\n",
            "7600 7584\n",
            "7617 7600\n",
            "7633 7617\n",
            "7650 7633\n",
            "7665 7650\n",
            "7682 7665\n",
            "7697 7682\n",
            "7712 7697\n",
            "7727 7712\n",
            "7743 7727\n",
            "7760 7743\n",
            "7776 7760\n",
            "7791 7776\n",
            "7806 7791\n",
            "7822 7806\n",
            "7838 7822\n",
            "7854 7838\n",
            "7870 7854\n",
            "7888 7870\n",
            "7905 7888\n",
            "7924 7905\n",
            "7940 7924\n",
            "7957 7940\n",
            "7975 7957\n",
            "7994 7975\n",
            "8010 7994\n",
            "8028 8010\n",
            "8045 8028\n",
            "8062 8045\n",
            "8078 8062\n",
            "8093 8078\n",
            "8109 8093\n",
            "8124 8109\n",
            "8142 8124\n",
            "8157 8142\n",
            "8173 8157\n",
            "8189 8173\n",
            "8207 8189\n",
            "8223 8207\n",
            "8242 8223\n",
            "8259 8242\n",
            "8276 8259\n",
            "8291 8276\n",
            "8307 8291\n",
            "8324 8307\n",
            "8340 8324\n",
            "8356 8340\n",
            "8373 8356\n",
            "8390 8373\n",
            "8408 8390\n",
            "8425 8408\n",
            "8441 8425\n",
            "8459 8441\n",
            "8474 8459\n",
            "8490 8474\n",
            "8506 8490\n",
            "8522 8506\n",
            "8538 8522\n",
            "8555 8538\n",
            "8571 8555\n",
            "8588 8571\n",
            "8605 8588\n",
            "8622 8605\n",
            "8639 8622\n",
            "8656 8639\n",
            "8673 8656\n",
            "8690 8673\n",
            "8708 8690\n"
          ],
          "name": "stdout"
        },
        {
          "output_type": "error",
          "ename": "StaleElementReferenceException",
          "evalue": "ignored",
          "traceback": [
            "\u001b[0;31m---------------------------------------------------------------------------\u001b[0m",
            "\u001b[0;31mStaleElementReferenceException\u001b[0m            Traceback (most recent call last)",
            "\u001b[0;32m<ipython-input-10-af693fd09d2a>\u001b[0m in \u001b[0;36m<module>\u001b[0;34m()\u001b[0m\n\u001b[1;32m      1\u001b[0m \u001b[0;32mfor\u001b[0m \u001b[0muser\u001b[0m \u001b[0;32min\u001b[0m \u001b[0mpinterest_users\u001b[0m\u001b[0;34m:\u001b[0m\u001b[0;34m\u001b[0m\u001b[0;34m\u001b[0m\u001b[0m\n\u001b[1;32m      2\u001b[0m \u001b[0;34m\u001b[0m\u001b[0m\n\u001b[0;32m----> 3\u001b[0;31m   \u001b[0mids\u001b[0m \u001b[0;34m=\u001b[0m \u001b[0mget_pinterest_ids\u001b[0m\u001b[0;34m(\u001b[0m\u001b[0muser\u001b[0m\u001b[0;34m)\u001b[0m\u001b[0;34m\u001b[0m\u001b[0;34m\u001b[0m\u001b[0m\n\u001b[0m\u001b[1;32m      4\u001b[0m   \u001b[0mprint\u001b[0m\u001b[0;34m(\u001b[0m\u001b[0mlen\u001b[0m\u001b[0;34m(\u001b[0m\u001b[0mids\u001b[0m\u001b[0;34m)\u001b[0m\u001b[0;34m)\u001b[0m\u001b[0;34m\u001b[0m\u001b[0;34m\u001b[0m\u001b[0m\n\u001b[1;32m      5\u001b[0m   \u001b[0;32mwith\u001b[0m \u001b[0mopen\u001b[0m\u001b[0;34m(\u001b[0m\u001b[0muser\u001b[0m \u001b[0;34m+\u001b[0m \u001b[0;34m'_ids.pkl'\u001b[0m\u001b[0;34m,\u001b[0m \u001b[0;34m'wb'\u001b[0m\u001b[0;34m)\u001b[0m \u001b[0;32mas\u001b[0m \u001b[0mf\u001b[0m\u001b[0;34m:\u001b[0m\u001b[0;34m\u001b[0m\u001b[0;34m\u001b[0m\u001b[0m\n",
            "\u001b[0;32m<ipython-input-6-fd3eef955804>\u001b[0m in \u001b[0;36mget_pinterest_ids\u001b[0;34m(user)\u001b[0m\n\u001b[1;32m     29\u001b[0m     \u001b[0;32mfor\u001b[0m \u001b[0mlink\u001b[0m \u001b[0;32min\u001b[0m \u001b[0ma_tags\u001b[0m\u001b[0;34m:\u001b[0m\u001b[0;34m\u001b[0m\u001b[0;34m\u001b[0m\u001b[0m\n\u001b[1;32m     30\u001b[0m \u001b[0;34m\u001b[0m\u001b[0m\n\u001b[0;32m---> 31\u001b[0;31m       \u001b[0mtemp\u001b[0m \u001b[0;34m=\u001b[0m \u001b[0mlink\u001b[0m\u001b[0;34m.\u001b[0m\u001b[0mget_attribute\u001b[0m\u001b[0;34m(\u001b[0m\u001b[0;34m'data-test-pin-id'\u001b[0m\u001b[0;34m)\u001b[0m\u001b[0;34m\u001b[0m\u001b[0;34m\u001b[0m\u001b[0m\n\u001b[0m\u001b[1;32m     32\u001b[0m \u001b[0;34m\u001b[0m\u001b[0m\n\u001b[1;32m     33\u001b[0m       \u001b[0;32mif\u001b[0m \u001b[0mtemp\u001b[0m\u001b[0;34m!=\u001b[0m\u001b[0;32mNone\u001b[0m\u001b[0;34m:\u001b[0m\u001b[0;34m\u001b[0m\u001b[0;34m\u001b[0m\u001b[0m\n",
            "\u001b[0;32m/usr/local/lib/python3.6/dist-packages/selenium/webdriver/remote/webelement.py\u001b[0m in \u001b[0;36mget_attribute\u001b[0;34m(self, name)\u001b[0m\n\u001b[1;32m    139\u001b[0m             attributeValue = self.parent.execute_script(\n\u001b[1;32m    140\u001b[0m                 \u001b[0;34m\"return (%s).apply(null, arguments);\"\u001b[0m \u001b[0;34m%\u001b[0m \u001b[0mgetAttribute_js\u001b[0m\u001b[0;34m,\u001b[0m\u001b[0;34m\u001b[0m\u001b[0;34m\u001b[0m\u001b[0m\n\u001b[0;32m--> 141\u001b[0;31m                 self, name)\n\u001b[0m\u001b[1;32m    142\u001b[0m         \u001b[0;32melse\u001b[0m\u001b[0;34m:\u001b[0m\u001b[0;34m\u001b[0m\u001b[0;34m\u001b[0m\u001b[0m\n\u001b[1;32m    143\u001b[0m             \u001b[0mresp\u001b[0m \u001b[0;34m=\u001b[0m \u001b[0mself\u001b[0m\u001b[0;34m.\u001b[0m\u001b[0m_execute\u001b[0m\u001b[0;34m(\u001b[0m\u001b[0mCommand\u001b[0m\u001b[0;34m.\u001b[0m\u001b[0mGET_ELEMENT_ATTRIBUTE\u001b[0m\u001b[0;34m,\u001b[0m \u001b[0;34m{\u001b[0m\u001b[0;34m'name'\u001b[0m\u001b[0;34m:\u001b[0m \u001b[0mname\u001b[0m\u001b[0;34m}\u001b[0m\u001b[0;34m)\u001b[0m\u001b[0;34m\u001b[0m\u001b[0;34m\u001b[0m\u001b[0m\n",
            "\u001b[0;32m/usr/local/lib/python3.6/dist-packages/selenium/webdriver/remote/webdriver.py\u001b[0m in \u001b[0;36mexecute_script\u001b[0;34m(self, script, *args)\u001b[0m\n\u001b[1;32m    634\u001b[0m         return self.execute(command, {\n\u001b[1;32m    635\u001b[0m             \u001b[0;34m'script'\u001b[0m\u001b[0;34m:\u001b[0m \u001b[0mscript\u001b[0m\u001b[0;34m,\u001b[0m\u001b[0;34m\u001b[0m\u001b[0;34m\u001b[0m\u001b[0m\n\u001b[0;32m--> 636\u001b[0;31m             'args': converted_args})['value']\n\u001b[0m\u001b[1;32m    637\u001b[0m \u001b[0;34m\u001b[0m\u001b[0m\n\u001b[1;32m    638\u001b[0m     \u001b[0;32mdef\u001b[0m \u001b[0mexecute_async_script\u001b[0m\u001b[0;34m(\u001b[0m\u001b[0mself\u001b[0m\u001b[0;34m,\u001b[0m \u001b[0mscript\u001b[0m\u001b[0;34m,\u001b[0m \u001b[0;34m*\u001b[0m\u001b[0margs\u001b[0m\u001b[0;34m)\u001b[0m\u001b[0;34m:\u001b[0m\u001b[0;34m\u001b[0m\u001b[0;34m\u001b[0m\u001b[0m\n",
            "\u001b[0;32m/usr/local/lib/python3.6/dist-packages/selenium/webdriver/remote/webdriver.py\u001b[0m in \u001b[0;36mexecute\u001b[0;34m(self, driver_command, params)\u001b[0m\n\u001b[1;32m    319\u001b[0m         \u001b[0mresponse\u001b[0m \u001b[0;34m=\u001b[0m \u001b[0mself\u001b[0m\u001b[0;34m.\u001b[0m\u001b[0mcommand_executor\u001b[0m\u001b[0;34m.\u001b[0m\u001b[0mexecute\u001b[0m\u001b[0;34m(\u001b[0m\u001b[0mdriver_command\u001b[0m\u001b[0;34m,\u001b[0m \u001b[0mparams\u001b[0m\u001b[0;34m)\u001b[0m\u001b[0;34m\u001b[0m\u001b[0;34m\u001b[0m\u001b[0m\n\u001b[1;32m    320\u001b[0m         \u001b[0;32mif\u001b[0m \u001b[0mresponse\u001b[0m\u001b[0;34m:\u001b[0m\u001b[0;34m\u001b[0m\u001b[0;34m\u001b[0m\u001b[0m\n\u001b[0;32m--> 321\u001b[0;31m             \u001b[0mself\u001b[0m\u001b[0;34m.\u001b[0m\u001b[0merror_handler\u001b[0m\u001b[0;34m.\u001b[0m\u001b[0mcheck_response\u001b[0m\u001b[0;34m(\u001b[0m\u001b[0mresponse\u001b[0m\u001b[0;34m)\u001b[0m\u001b[0;34m\u001b[0m\u001b[0;34m\u001b[0m\u001b[0m\n\u001b[0m\u001b[1;32m    322\u001b[0m             response['value'] = self._unwrap_value(\n\u001b[1;32m    323\u001b[0m                 response.get('value', None))\n",
            "\u001b[0;32m/usr/local/lib/python3.6/dist-packages/selenium/webdriver/remote/errorhandler.py\u001b[0m in \u001b[0;36mcheck_response\u001b[0;34m(self, response)\u001b[0m\n\u001b[1;32m    240\u001b[0m                 \u001b[0malert_text\u001b[0m \u001b[0;34m=\u001b[0m \u001b[0mvalue\u001b[0m\u001b[0;34m[\u001b[0m\u001b[0;34m'alert'\u001b[0m\u001b[0;34m]\u001b[0m\u001b[0;34m.\u001b[0m\u001b[0mget\u001b[0m\u001b[0;34m(\u001b[0m\u001b[0;34m'text'\u001b[0m\u001b[0;34m)\u001b[0m\u001b[0;34m\u001b[0m\u001b[0;34m\u001b[0m\u001b[0m\n\u001b[1;32m    241\u001b[0m             \u001b[0;32mraise\u001b[0m \u001b[0mexception_class\u001b[0m\u001b[0;34m(\u001b[0m\u001b[0mmessage\u001b[0m\u001b[0;34m,\u001b[0m \u001b[0mscreen\u001b[0m\u001b[0;34m,\u001b[0m \u001b[0mstacktrace\u001b[0m\u001b[0;34m,\u001b[0m \u001b[0malert_text\u001b[0m\u001b[0;34m)\u001b[0m\u001b[0;34m\u001b[0m\u001b[0;34m\u001b[0m\u001b[0m\n\u001b[0;32m--> 242\u001b[0;31m         \u001b[0;32mraise\u001b[0m \u001b[0mexception_class\u001b[0m\u001b[0;34m(\u001b[0m\u001b[0mmessage\u001b[0m\u001b[0;34m,\u001b[0m \u001b[0mscreen\u001b[0m\u001b[0;34m,\u001b[0m \u001b[0mstacktrace\u001b[0m\u001b[0;34m)\u001b[0m\u001b[0;34m\u001b[0m\u001b[0;34m\u001b[0m\u001b[0m\n\u001b[0m\u001b[1;32m    243\u001b[0m \u001b[0;34m\u001b[0m\u001b[0m\n\u001b[1;32m    244\u001b[0m     \u001b[0;32mdef\u001b[0m \u001b[0m_value_or_default\u001b[0m\u001b[0;34m(\u001b[0m\u001b[0mself\u001b[0m\u001b[0;34m,\u001b[0m \u001b[0mobj\u001b[0m\u001b[0;34m,\u001b[0m \u001b[0mkey\u001b[0m\u001b[0;34m,\u001b[0m \u001b[0mdefault\u001b[0m\u001b[0;34m)\u001b[0m\u001b[0;34m:\u001b[0m\u001b[0;34m\u001b[0m\u001b[0;34m\u001b[0m\u001b[0m\n",
            "\u001b[0;31mStaleElementReferenceException\u001b[0m: Message: stale element reference: element is not attached to the page document\n  (Session info: headless chrome=76.0.3809.100)\n"
          ]
        }
      ]
    }
  ]
}