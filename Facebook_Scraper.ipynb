{
  "nbformat": 4,
  "nbformat_minor": 0,
  "metadata": {
    "colab": {
      "name": "Facebook_Scraper.ipynb",
      "provenance": [],
      "collapsed_sections": [
        "z2jyiWLKCJOZ",
        "XL66oyPaCsSs",
        "JYqbKfnwecck",
        "kXsPAGirelxB",
        "mxfjR0jZeugv"
      ],
      "toc_visible": true,
      "include_colab_link": true
    },
    "kernelspec": {
      "name": "python3",
      "display_name": "Python 3"
    }
  },
  "cells": [
    {
      "cell_type": "markdown",
      "metadata": {
        "id": "view-in-github",
        "colab_type": "text"
      },
      "source": [
        "<a href=\"https://colab.research.google.com/github/radonys/webscrapers/blob/master/Facebook_Scraper.ipynb\" target=\"_parent\"><img src=\"https://colab.research.google.com/assets/colab-badge.svg\" alt=\"Open In Colab\"/></a>"
      ]
    },
    {
      "cell_type": "markdown",
      "metadata": {
        "id": "jyBevbWZCFhq",
        "colab_type": "text"
      },
      "source": [
        "# Facebook Scraper"
      ]
    },
    {
      "cell_type": "markdown",
      "metadata": {
        "id": "z2jyiWLKCJOZ",
        "colab_type": "text"
      },
      "source": [
        "## Install Modules"
      ]
    },
    {
      "cell_type": "code",
      "metadata": {
        "id": "tGSvCciSCA28",
        "colab_type": "code",
        "colab": {}
      },
      "source": [
        "!pip install facebook-scraper"
      ],
      "execution_count": 0,
      "outputs": []
    },
    {
      "cell_type": "markdown",
      "metadata": {
        "id": "XL66oyPaCsSs",
        "colab_type": "text"
      },
      "source": [
        "## Import Modules"
      ]
    },
    {
      "cell_type": "code",
      "metadata": {
        "id": "ArMpmGdACupn",
        "colab_type": "code",
        "colab": {}
      },
      "source": [
        "from facebook_scraper import get_posts\n",
        "\n",
        "import pandas as pd\n",
        "import os\n",
        "import requests\n",
        "import shutil\n",
        "import sys\n",
        "import re"
      ],
      "execution_count": 0,
      "outputs": []
    },
    {
      "cell_type": "markdown",
      "metadata": {
        "id": "MifwHONMC4fB",
        "colab_type": "text"
      },
      "source": [
        "## Variable Declaration"
      ]
    },
    {
      "cell_type": "code",
      "metadata": {
        "id": "2eEK0zU2C7Pr",
        "colab_type": "code",
        "colab": {}
      },
      "source": [
        "facebook_profiles = ['AshleyHomeStore', 'bonobos', 'CocaColaUnitedStates', 'IKEAUSA', 'lazboy', 'potterybarn', 'raymourflanigan', 'SimplyGum', 'starfurnituretx', 'WilliamsSonoma', 'walmart']"
      ],
      "execution_count": 0,
      "outputs": []
    },
    {
      "cell_type": "markdown",
      "metadata": {
        "id": "JYqbKfnwecck",
        "colab_type": "text"
      },
      "source": [
        "## Helper Functions"
      ]
    },
    {
      "cell_type": "markdown",
      "metadata": {
        "id": "kXsPAGirelxB",
        "colab_type": "text"
      },
      "source": [
        "### Retrieve Posts and Save Data\n",
        "\n",
        "References:\n",
        "\n",
        "1) Facebook Scraper ([GitHub](https://github.com/kevinzg/facebook-scraper))"
      ]
    },
    {
      "cell_type": "code",
      "metadata": {
        "id": "jiXndqXwI7m0",
        "colab_type": "code",
        "colab": {}
      },
      "source": [
        "def scrape_facebook_posts(profile):\n",
        "  \n",
        "  posts = []\n",
        "  prev_post_count = len(posts)\n",
        "  tries = 10\n",
        "  \n",
        "  while tries>=0:\n",
        "\n",
        "    for post in get_posts(profile, pages=sys.maxsize, sleep=0, timeout=10):\n",
        "      if post['image']:\n",
        "        posts.append(post)\n",
        "    \n",
        "    posts = list({post['post_id']:post for post in posts}.values())\n",
        "    \n",
        "    if len(posts) <= prev_post_count:\n",
        "      tries -= 1\n",
        "      \n",
        "    prev_post_count = len(posts)\n",
        "    #print(tries, prev_post_count)\n",
        "  \n",
        "  data = pd.DataFrame.from_dict(posts, orient='columns')\n",
        "  data.to_csv(profile+'_data.csv')\n",
        "  save_images(posts, profile+'_images')"
      ],
      "execution_count": 0,
      "outputs": []
    },
    {
      "cell_type": "markdown",
      "metadata": {
        "id": "mxfjR0jZeugv",
        "colab_type": "text"
      },
      "source": [
        "### Save Images"
      ]
    },
    {
      "cell_type": "code",
      "metadata": {
        "id": "u3KzTHMoN92H",
        "colab_type": "code",
        "colab": {}
      },
      "source": [
        "def save_images(posts, save_name):\n",
        "  \n",
        "  images_path = save_name+'/'\n",
        "  \n",
        "  if not os.path.isdir(images_path):\n",
        "    os.mkdir(images_path)\n",
        "  \n",
        "  for post in posts:\n",
        "\n",
        "    image = requests.get(post['image'])\n",
        "    \n",
        "    try:\n",
        "\n",
        "      with open(images_path + post['post_id'] + \".jpg\", 'wb') as file:\n",
        "        file.write(image.content)\n",
        "    \n",
        "    except Exception as error:\n",
        "      print('Caught this error: ' + repr(error))"
      ],
      "execution_count": 0,
      "outputs": []
    },
    {
      "cell_type": "markdown",
      "metadata": {
        "id": "i_TGjHLjf5wR",
        "colab_type": "text"
      },
      "source": [
        "## Scrape Facebook Data"
      ]
    },
    {
      "cell_type": "code",
      "metadata": {
        "id": "PTPzG7d_f9Kc",
        "colab_type": "code",
        "colab": {}
      },
      "source": [
        "for profile in facebook_profiles:\n",
        "  \n",
        "  scrape_facebook_posts(profile)\n",
        "  shutil.make_archive(profile+'_images', 'zip', profile+'_images')"
      ],
      "execution_count": 0,
      "outputs": []
    }
  ]
}